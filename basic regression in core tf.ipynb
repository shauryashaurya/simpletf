{
 "cells": [
  {
   "cell_type": "code",
   "execution_count": 1,
   "metadata": {},
   "outputs": [],
   "source": [
    "import tensorflow as tf"
   ]
  },
  {
   "cell_type": "code",
   "execution_count": 2,
   "metadata": {},
   "outputs": [],
   "source": [
    "# tensorflow works on 'nodes' - uses the 'Dataflow' model of programming\n",
    "# - each node represents the 'definition' of a tensor or an operation on a tensor \n",
    "# (this is good intution but not accurate) - read: https://en.wikipedia.org/wiki/Dataflow_programming\n",
    "# (so really, nodes are the 'definition' operation or 'computation' operation on some data)\n",
    "# (nodes = what to do, edges = data)\n",
    "# - you build a 'graph' of nodes and then tf 'flows' data through the relevant nodes\n",
    "# when we call session.run(nodename)\n",
    "# a quick look at key nodes:"
   ]
  },
  {
   "cell_type": "code",
   "execution_count": 3,
   "metadata": {},
   "outputs": [
    {
     "name": "stdout",
     "output_type": "stream",
     "text": [
      "WARNING:tensorflow:From C:\\1\\a3\\lib\\site-packages\\tensorflow\\python\\framework\\op_def_library.py:263: colocate_with (from tensorflow.python.framework.ops) is deprecated and will be removed in a future version.\n",
      "Instructions for updating:\n",
      "Colocations handled automatically by placer.\n"
     ]
    }
   ],
   "source": [
    "# constants\n",
    "const_node_1 = tf.constant(1.0, dtype=tf.float32)\n",
    "const_node_2 = tf.constant(2.0, dtype=tf.float32)\n",
    "const_node_3 = tf.constant([3.0, 4.0, 5.0], dtype=tf.float32)\n",
    "\n",
    "# placeholders\n",
    "placeholder_1 = tf.placeholder(dtype=tf.float32)\n",
    "placeholder_2 = tf.placeholder(dtype=tf.float32)\n",
    "\n",
    "# Variable (note Variable is a class, placeholder and constant are methods)\n",
    "var_node_1 = tf.Variable([5.0], dtype=tf.float32)\n",
    "const_node_4 = tf.constant([10.0], dtype=tf.float32)"
   ]
  },
  {
   "cell_type": "code",
   "execution_count": 4,
   "metadata": {},
   "outputs": [],
   "source": [
    "# operation nodes - using constants\n",
    "# add_node_1 = tf.add(const_node_1, const_node_2)\n",
    "add_node_2 = const_node_1 + const_node_2 #tf.add is equivalent to using +\n",
    "multiply_node_1 = add_node_2 * const_node_3"
   ]
  },
  {
   "cell_type": "code",
   "execution_count": 5,
   "metadata": {},
   "outputs": [],
   "source": [
    "# operation nodes - using placeholders\n",
    "multiply_node_2 = placeholder_1 * placeholder_2"
   ]
  },
  {
   "cell_type": "code",
   "execution_count": 6,
   "metadata": {},
   "outputs": [],
   "source": [
    "# operation nodes - using Variables\n",
    "# note that the use of variables will become a lot clearer when we get to actual regression\n",
    "multiply_node_3 = var_node_1 * const_node_4"
   ]
  },
  {
   "cell_type": "code",
   "execution_count": 7,
   "metadata": {},
   "outputs": [],
   "source": [
    "# must initialize variables\n",
    "initialize = tf.global_variables_initializer()"
   ]
  },
  {
   "cell_type": "code",
   "execution_count": 8,
   "metadata": {},
   "outputs": [],
   "source": [
    "sess = tf.Session()\n",
    "sess.run(initialize)"
   ]
  },
  {
   "cell_type": "code",
   "execution_count": 9,
   "metadata": {},
   "outputs": [
    {
     "name": "stdout",
     "output_type": "stream",
     "text": [
      "using constants: multiply_node_1 =  [  9.  12.  15.]\n"
     ]
    }
   ],
   "source": [
    "print(\"using constants: multiply_node_1 = \",sess.run(multiply_node_1))"
   ]
  },
  {
   "cell_type": "code",
   "execution_count": 10,
   "metadata": {},
   "outputs": [
    {
     "name": "stdout",
     "output_type": "stream",
     "text": [
      "using placeholders: multiply_node_2 =  [  8.  20.]\n"
     ]
    }
   ],
   "source": [
    "print(\"using placeholders: multiply_node_2 = \",\n",
    "      sess.run(multiply_node_2, {placeholder_1: 4.0, placeholder_2: [2.0, 5.0]}))"
   ]
  },
  {
   "cell_type": "code",
   "execution_count": 11,
   "metadata": {},
   "outputs": [
    {
     "name": "stdout",
     "output_type": "stream",
     "text": [
      "using Variables: multiply_node_3 =  [ 50.]\n"
     ]
    }
   ],
   "source": [
    "print(\"using Variables: multiply_node_3 = \",sess.run(multiply_node_3))"
   ]
  },
  {
   "cell_type": "code",
   "execution_count": 12,
   "metadata": {},
   "outputs": [
    {
     "name": "stdout",
     "output_type": "stream",
     "text": [
      "[ 10.]\n"
     ]
    }
   ],
   "source": [
    "# update the value of the variable and evaluate again...\n",
    "sess.run(var_node_1.assign([10.0]))\n",
    "print(sess.run(var_node_1))"
   ]
  },
  {
   "cell_type": "code",
   "execution_count": 13,
   "metadata": {},
   "outputs": [
    {
     "name": "stdout",
     "output_type": "stream",
     "text": [
      "using Variables, round 2: multiply_node_3 =  [ 100.]\n"
     ]
    }
   ],
   "source": [
    "print(\"using Variables, round 2: multiply_node_3 = \",sess.run(multiply_node_3))"
   ]
  },
  {
   "cell_type": "code",
   "execution_count": 14,
   "metadata": {},
   "outputs": [],
   "source": [
    "# Let's try regression\n",
    "# Linear Equation: y = Wx + b\n",
    "# Let's try y = 2x-1\n",
    "# x = [1, 2, 3, 4]\n",
    "# y = [1, 3, 5, 7]"
   ]
  },
  {
   "cell_type": "code",
   "execution_count": 15,
   "metadata": {},
   "outputs": [],
   "source": [
    "#start anywhere\n",
    "W = tf.Variable([-.5], dtype=tf.float32)\n",
    "b = tf.Variable([.5], dtype=tf.float32)\n",
    "\n",
    "#placeholders\n",
    "x = tf.placeholder(dtype=tf.float32)\n",
    "y = tf.placeholder(dtype=tf.float32)"
   ]
  },
  {
   "cell_type": "code",
   "execution_count": 16,
   "metadata": {},
   "outputs": [],
   "source": [
    "linear_model = W * x + b"
   ]
  },
  {
   "cell_type": "code",
   "execution_count": 33,
   "metadata": {},
   "outputs": [],
   "source": [
    "loss = tf.reduce_sum(tf.square(linear_model - y)) #Sum of squares loss\n",
    "optimizer = tf.train.GradientDescentOptimizer(0.01) #0.01 = learning rate\n",
    "train = optimizer.minimize(loss)"
   ]
  },
  {
   "cell_type": "code",
   "execution_count": 34,
   "metadata": {},
   "outputs": [],
   "source": [
    "x_train = [1.0, 2.0, 3.0, 4.0]\n",
    "y_train = [1.0, 3.0, 5.0, 7.0]"
   ]
  },
  {
   "cell_type": "code",
   "execution_count": 35,
   "metadata": {},
   "outputs": [],
   "source": [
    "session = tf.Session()\n",
    "init = tf.global_variables_initializer()\n",
    "session.run(init)"
   ]
  },
  {
   "cell_type": "code",
   "execution_count": 36,
   "metadata": {},
   "outputs": [
    {
     "name": "stdout",
     "output_type": "stream",
     "text": [
      "starting state of the linear_model:  [ 0.  -0.5 -1.  -1.5]\n"
     ]
    }
   ],
   "source": [
    "print(\"starting state of the linear_model: \", session.run(linear_model, {x: x_train}))"
   ]
  },
  {
   "cell_type": "code",
   "execution_count": 37,
   "metadata": {},
   "outputs": [
    {
     "name": "stdout",
     "output_type": "stream",
     "text": [
      "initial state of loss:  121.5\n"
     ]
    }
   ],
   "source": [
    "print(\"initial state of loss: \",session.run(loss, {x: x_train, y: y_train}))"
   ]
  },
  {
   "cell_type": "code",
   "execution_count": 38,
   "metadata": {},
   "outputs": [],
   "source": [
    "# process for 1000 epocs\n",
    "for i in range(1000):\n",
    "    session.run(train, {x: x_train, y: y_train})"
   ]
  },
  {
   "cell_type": "code",
   "execution_count": 39,
   "metadata": {},
   "outputs": [],
   "source": [
    "updated_W, updated_b, updated_loss = session.run([W, b, loss], {x: x_train, y: y_train}) \n",
    "#remember that loss depends upon placeholders x and y having some values"
   ]
  },
  {
   "cell_type": "code",
   "execution_count": 40,
   "metadata": {},
   "outputs": [
    {
     "name": "stdout",
     "output_type": "stream",
     "text": [
      "final W =  [ 1.99999583]\n"
     ]
    }
   ],
   "source": [
    "print(\"final W = \", updated_W)"
   ]
  },
  {
   "cell_type": "code",
   "execution_count": 41,
   "metadata": {},
   "outputs": [
    {
     "name": "stdout",
     "output_type": "stream",
     "text": [
      "final b =  [-0.99998772]\n"
     ]
    }
   ],
   "source": [
    "print(\"final b = \", updated_b)"
   ]
  },
  {
   "cell_type": "code",
   "execution_count": 42,
   "metadata": {},
   "outputs": [
    {
     "name": "stdout",
     "output_type": "stream",
     "text": [
      "final loss =  9.86802e-11\n"
     ]
    }
   ],
   "source": [
    "print(\"final loss = \", updated_loss)"
   ]
  },
  {
   "cell_type": "code",
   "execution_count": 43,
   "metadata": {},
   "outputs": [
    {
     "name": "stdout",
     "output_type": "stream",
     "text": [
      "predictions:  [ 18.99996948  38.99992752  58.99988556  78.99984741]\n"
     ]
    }
   ],
   "source": [
    "print(\"predictions: \",session.run(linear_model, {x: [10,20,30,40]}))"
   ]
  },
  {
   "cell_type": "code",
   "execution_count": 28,
   "metadata": {},
   "outputs": [],
   "source": [
    "#THE END."
   ]
  }
 ],
 "metadata": {
  "kernelspec": {
   "display_name": "Python 3",
   "language": "python",
   "name": "python3"
  },
  "language_info": {
   "codemirror_mode": {
    "name": "ipython",
    "version": 3
   },
   "file_extension": ".py",
   "mimetype": "text/x-python",
   "name": "python",
   "nbconvert_exporter": "python",
   "pygments_lexer": "ipython3",
   "version": "3.6.8"
  }
 },
 "nbformat": 4,
 "nbformat_minor": 2
}
